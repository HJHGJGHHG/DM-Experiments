{
 "cells": [
  {
   "cell_type": "code",
   "execution_count": 246,
   "metadata": {},
   "outputs": [],
   "source": [
    "import pandas as pd\n",
    "import numpy as np\n",
    "from igraph import *\n",
    "import matplotlib.pyplot as plt"
   ]
  },
  {
   "cell_type": "code",
   "execution_count": 247,
   "metadata": {},
   "outputs": [],
   "source": [
    "g=Graph.Read_GML(\"karate.gml\")"
   ]
  },
  {
   "cell_type": "code",
   "execution_count": 248,
   "metadata": {},
   "outputs": [
    {
     "name": "stdout",
     "output_type": "stream",
     "text": [
      "IGRAPH U--- 34 78 -- \n",
      "+ attr: id (v)\n"
     ]
    }
   ],
   "source": [
    "summary(g)"
   ]
  },
  {
   "cell_type": "code",
   "execution_count": 249,
   "metadata": {},
   "outputs": [
    {
     "data": {
      "image/svg+xml": "<?xml version=\"1.0\" encoding=\"UTF-8\"?>\n<svg xmlns=\"http://www.w3.org/2000/svg\" xmlns:xlink=\"http://www.w3.org/1999/xlink\" width=\"600pt\" height=\"600pt\" viewBox=\"0 0 600 600\" version=\"1.1\">\n<g id=\"surface62\">\n<rect x=\"0\" y=\"0\" width=\"600\" height=\"600\" style=\"fill:rgb(100%,100%,100%);fill-opacity:1;stroke:none;\"/>\n<path style=\"fill:none;stroke-width:1;stroke-linecap:butt;stroke-linejoin:miter;stroke:rgb(26.666667%,26.666667%,26.666667%);stroke-opacity:1;stroke-miterlimit:10;\" d=\"M 407.597656 345.757813 L 440.75 265.945313 \"/>\n<path style=\"fill:none;stroke-width:1;stroke-linecap:butt;stroke-linejoin:miter;stroke:rgb(26.666667%,26.666667%,26.666667%);stroke-opacity:1;stroke-miterlimit:10;\" d=\"M 407.597656 345.757813 L 327.433594 229.296875 \"/>\n<path style=\"fill:none;stroke-width:1;stroke-linecap:butt;stroke-linejoin:miter;stroke:rgb(26.666667%,26.666667%,26.666667%);stroke-opacity:1;stroke-miterlimit:10;\" d=\"M 440.75 265.945313 L 327.433594 229.296875 \"/>\n<path style=\"fill:none;stroke-width:1;stroke-linecap:butt;stroke-linejoin:miter;stroke:rgb(26.666667%,26.666667%,26.666667%);stroke-opacity:1;stroke-miterlimit:10;\" d=\"M 407.597656 345.757813 L 347.5 344.527344 \"/>\n<path style=\"fill:none;stroke-width:1;stroke-linecap:butt;stroke-linejoin:miter;stroke:rgb(26.666667%,26.666667%,26.666667%);stroke-opacity:1;stroke-miterlimit:10;\" d=\"M 440.75 265.945313 L 347.5 344.527344 \"/>\n<path style=\"fill:none;stroke-width:1;stroke-linecap:butt;stroke-linejoin:miter;stroke:rgb(26.666667%,26.666667%,26.666667%);stroke-opacity:1;stroke-miterlimit:10;\" d=\"M 327.433594 229.296875 L 347.5 344.527344 \"/>\n<path style=\"fill:none;stroke-width:1;stroke-linecap:butt;stroke-linejoin:miter;stroke:rgb(26.666667%,26.666667%,26.666667%);stroke-opacity:1;stroke-miterlimit:10;\" d=\"M 407.597656 345.757813 L 492.699219 424.453125 \"/>\n<path style=\"fill:none;stroke-width:1;stroke-linecap:butt;stroke-linejoin:miter;stroke:rgb(26.666667%,26.666667%,26.666667%);stroke-opacity:1;stroke-miterlimit:10;\" d=\"M 407.597656 345.757813 L 491.773438 462.351563 \"/>\n<path style=\"fill:none;stroke-width:1;stroke-linecap:butt;stroke-linejoin:miter;stroke:rgb(26.666667%,26.666667%,26.666667%);stroke-opacity:1;stroke-miterlimit:10;\" d=\"M 407.597656 345.757813 L 409.332031 482.472656 \"/>\n<path style=\"fill:none;stroke-width:1;stroke-linecap:butt;stroke-linejoin:miter;stroke:rgb(26.666667%,26.666667%,26.666667%);stroke-opacity:1;stroke-miterlimit:10;\" d=\"M 492.699219 424.453125 L 409.332031 482.472656 \"/>\n<path style=\"fill:none;stroke-width:1;stroke-linecap:butt;stroke-linejoin:miter;stroke:rgb(26.666667%,26.666667%,26.666667%);stroke-opacity:1;stroke-miterlimit:10;\" d=\"M 491.773438 462.351563 L 409.332031 482.472656 \"/>\n<path style=\"fill:none;stroke-width:1;stroke-linecap:butt;stroke-linejoin:miter;stroke:rgb(26.666667%,26.666667%,26.666667%);stroke-opacity:1;stroke-miterlimit:10;\" d=\"M 407.597656 345.757813 L 491.648438 253.769531 \"/>\n<path style=\"fill:none;stroke-width:1;stroke-linecap:butt;stroke-linejoin:miter;stroke:rgb(26.666667%,26.666667%,26.666667%);stroke-opacity:1;stroke-miterlimit:10;\" d=\"M 440.75 265.945313 L 491.648438 253.769531 \"/>\n<path style=\"fill:none;stroke-width:1;stroke-linecap:butt;stroke-linejoin:miter;stroke:rgb(26.666667%,26.666667%,26.666667%);stroke-opacity:1;stroke-miterlimit:10;\" d=\"M 327.433594 229.296875 L 491.648438 253.769531 \"/>\n<path style=\"fill:none;stroke-width:1;stroke-linecap:butt;stroke-linejoin:miter;stroke:rgb(26.666667%,26.666667%,26.666667%);stroke-opacity:1;stroke-miterlimit:10;\" d=\"M 347.5 344.527344 L 491.648438 253.769531 \"/>\n<path style=\"fill:none;stroke-width:1;stroke-linecap:butt;stroke-linejoin:miter;stroke:rgb(26.666667%,26.666667%,26.666667%);stroke-opacity:1;stroke-miterlimit:10;\" d=\"M 407.597656 345.757813 L 380.710938 196.953125 \"/>\n<path style=\"fill:none;stroke-width:1;stroke-linecap:butt;stroke-linejoin:miter;stroke:rgb(26.666667%,26.666667%,26.666667%);stroke-opacity:1;stroke-miterlimit:10;\" d=\"M 327.433594 229.296875 L 380.710938 196.953125 \"/>\n<path style=\"fill:none;stroke-width:1;stroke-linecap:butt;stroke-linejoin:miter;stroke:rgb(26.666667%,26.666667%,26.666667%);stroke-opacity:1;stroke-miterlimit:10;\" d=\"M 327.433594 229.296875 L 365.175781 106.308594 \"/>\n<path style=\"fill:none;stroke-width:1;stroke-linecap:butt;stroke-linejoin:miter;stroke:rgb(26.666667%,26.666667%,26.666667%);stroke-opacity:1;stroke-miterlimit:10;\" d=\"M 407.597656 345.757813 L 566.023438 392.976563 \"/>\n<path style=\"fill:none;stroke-width:1;stroke-linecap:butt;stroke-linejoin:miter;stroke:rgb(26.666667%,26.666667%,26.666667%);stroke-opacity:1;stroke-miterlimit:10;\" d=\"M 492.699219 424.453125 L 566.023438 392.976563 \"/>\n<path style=\"fill:none;stroke-width:1;stroke-linecap:butt;stroke-linejoin:miter;stroke:rgb(26.666667%,26.666667%,26.666667%);stroke-opacity:1;stroke-miterlimit:10;\" d=\"M 491.773438 462.351563 L 566.023438 392.976563 \"/>\n<path style=\"fill:none;stroke-width:1;stroke-linecap:butt;stroke-linejoin:miter;stroke:rgb(26.666667%,26.666667%,26.666667%);stroke-opacity:1;stroke-miterlimit:10;\" d=\"M 407.597656 345.757813 L 280.117188 464.125 \"/>\n<path style=\"fill:none;stroke-width:1;stroke-linecap:butt;stroke-linejoin:miter;stroke:rgb(26.666667%,26.666667%,26.666667%);stroke-opacity:1;stroke-miterlimit:10;\" d=\"M 407.597656 345.757813 L 335.769531 452.640625 \"/>\n<path style=\"fill:none;stroke-width:1;stroke-linecap:butt;stroke-linejoin:miter;stroke:rgb(26.666667%,26.666667%,26.666667%);stroke-opacity:1;stroke-miterlimit:10;\" d=\"M 347.5 344.527344 L 335.769531 452.640625 \"/>\n<path style=\"fill:none;stroke-width:1;stroke-linecap:butt;stroke-linejoin:miter;stroke:rgb(26.666667%,26.666667%,26.666667%);stroke-opacity:1;stroke-miterlimit:10;\" d=\"M 407.597656 345.757813 L 326.605469 267.390625 \"/>\n<path style=\"fill:none;stroke-width:1;stroke-linecap:butt;stroke-linejoin:miter;stroke:rgb(26.666667%,26.666667%,26.666667%);stroke-opacity:1;stroke-miterlimit:10;\" d=\"M 440.75 265.945313 L 326.605469 267.390625 \"/>\n<path style=\"fill:none;stroke-width:1;stroke-linecap:butt;stroke-linejoin:miter;stroke:rgb(26.666667%,26.666667%,26.666667%);stroke-opacity:1;stroke-miterlimit:10;\" d=\"M 327.433594 229.296875 L 326.605469 267.390625 \"/>\n<path style=\"fill:none;stroke-width:1;stroke-linecap:butt;stroke-linejoin:miter;stroke:rgb(26.666667%,26.666667%,26.666667%);stroke-opacity:1;stroke-miterlimit:10;\" d=\"M 347.5 344.527344 L 326.605469 267.390625 \"/>\n<path style=\"fill:none;stroke-width:1;stroke-linecap:butt;stroke-linejoin:miter;stroke:rgb(26.666667%,26.666667%,26.666667%);stroke-opacity:1;stroke-miterlimit:10;\" d=\"M 491.773438 462.351563 L 503.9375 580 \"/>\n<path style=\"fill:none;stroke-width:1;stroke-linecap:butt;stroke-linejoin:miter;stroke:rgb(26.666667%,26.666667%,26.666667%);stroke-opacity:1;stroke-miterlimit:10;\" d=\"M 409.332031 482.472656 L 503.9375 580 \"/>\n<path style=\"fill:none;stroke-width:1;stroke-linecap:butt;stroke-linejoin:miter;stroke:rgb(26.666667%,26.666667%,26.666667%);stroke-opacity:1;stroke-miterlimit:10;\" d=\"M 407.597656 345.757813 L 568.066406 324.976563 \"/>\n<path style=\"fill:none;stroke-width:1;stroke-linecap:butt;stroke-linejoin:miter;stroke:rgb(26.666667%,26.666667%,26.666667%);stroke-opacity:1;stroke-miterlimit:10;\" d=\"M 440.75 265.945313 L 568.066406 324.976563 \"/>\n<path style=\"fill:none;stroke-width:1;stroke-linecap:butt;stroke-linejoin:miter;stroke:rgb(26.666667%,26.666667%,26.666667%);stroke-opacity:1;stroke-miterlimit:10;\" d=\"M 407.597656 345.757813 L 287.335938 277.863281 \"/>\n<path style=\"fill:none;stroke-width:1;stroke-linecap:butt;stroke-linejoin:miter;stroke:rgb(26.666667%,26.666667%,26.666667%);stroke-opacity:1;stroke-miterlimit:10;\" d=\"M 440.75 265.945313 L 287.335938 277.863281 \"/>\n<path style=\"fill:none;stroke-width:1;stroke-linecap:butt;stroke-linejoin:miter;stroke:rgb(26.666667%,26.666667%,26.666667%);stroke-opacity:1;stroke-miterlimit:10;\" d=\"M 407.597656 345.757813 L 580 278 \"/>\n<path style=\"fill:none;stroke-width:1;stroke-linecap:butt;stroke-linejoin:miter;stroke:rgb(26.666667%,26.666667%,26.666667%);stroke-opacity:1;stroke-miterlimit:10;\" d=\"M 440.75 265.945313 L 580 278 \"/>\n<path style=\"fill:none;stroke-width:1;stroke-linecap:butt;stroke-linejoin:miter;stroke:rgb(26.666667%,26.666667%,26.666667%);stroke-opacity:1;stroke-miterlimit:10;\" d=\"M 67.382813 192.761719 L 34.351563 317.734375 \"/>\n<path style=\"fill:none;stroke-width:1;stroke-linecap:butt;stroke-linejoin:miter;stroke:rgb(26.666667%,26.666667%,26.666667%);stroke-opacity:1;stroke-miterlimit:10;\" d=\"M 93.996094 376.390625 L 34.351563 317.734375 \"/>\n<path style=\"fill:none;stroke-width:1;stroke-linecap:butt;stroke-linejoin:miter;stroke:rgb(26.666667%,26.666667%,26.666667%);stroke-opacity:1;stroke-miterlimit:10;\" d=\"M 327.433594 229.296875 L 143.476563 259.753906 \"/>\n<path style=\"fill:none;stroke-width:1;stroke-linecap:butt;stroke-linejoin:miter;stroke:rgb(26.666667%,26.666667%,26.666667%);stroke-opacity:1;stroke-miterlimit:10;\" d=\"M 67.382813 192.761719 L 143.476563 259.753906 \"/>\n<path style=\"fill:none;stroke-width:1;stroke-linecap:butt;stroke-linejoin:miter;stroke:rgb(26.666667%,26.666667%,26.666667%);stroke-opacity:1;stroke-miterlimit:10;\" d=\"M 93.996094 376.390625 L 143.476563 259.753906 \"/>\n<path style=\"fill:none;stroke-width:1;stroke-linecap:butt;stroke-linejoin:miter;stroke:rgb(26.666667%,26.666667%,26.666667%);stroke-opacity:1;stroke-miterlimit:10;\" d=\"M 327.433594 229.296875 L 174.089844 220.875 \"/>\n<path style=\"fill:none;stroke-width:1;stroke-linecap:butt;stroke-linejoin:miter;stroke:rgb(26.666667%,26.666667%,26.666667%);stroke-opacity:1;stroke-miterlimit:10;\" d=\"M 67.382813 192.761719 L 93.574219 113.773438 \"/>\n<path style=\"fill:none;stroke-width:1;stroke-linecap:butt;stroke-linejoin:miter;stroke:rgb(26.666667%,26.666667%,26.666667%);stroke-opacity:1;stroke-miterlimit:10;\" d=\"M 20 127.859375 L 93.574219 113.773438 \"/>\n<path style=\"fill:none;stroke-width:1;stroke-linecap:butt;stroke-linejoin:miter;stroke:rgb(26.666667%,26.666667%,26.666667%);stroke-opacity:1;stroke-miterlimit:10;\" d=\"M 440.75 265.945313 L 403.230469 130.511719 \"/>\n<path style=\"fill:none;stroke-width:1;stroke-linecap:butt;stroke-linejoin:miter;stroke:rgb(26.666667%,26.666667%,26.666667%);stroke-opacity:1;stroke-miterlimit:10;\" d=\"M 380.710938 196.953125 L 403.230469 130.511719 \"/>\n<path style=\"fill:none;stroke-width:1;stroke-linecap:butt;stroke-linejoin:miter;stroke:rgb(26.666667%,26.666667%,26.666667%);stroke-opacity:1;stroke-miterlimit:10;\" d=\"M 407.597656 345.757813 L 216.308594 292.46875 \"/>\n<path style=\"fill:none;stroke-width:1;stroke-linecap:butt;stroke-linejoin:miter;stroke:rgb(26.666667%,26.666667%,26.666667%);stroke-opacity:1;stroke-miterlimit:10;\" d=\"M 93.996094 376.390625 L 216.308594 292.46875 \"/>\n<path style=\"fill:none;stroke-width:1;stroke-linecap:butt;stroke-linejoin:miter;stroke:rgb(26.666667%,26.666667%,26.666667%);stroke-opacity:1;stroke-miterlimit:10;\" d=\"M 34.351563 317.734375 L 216.308594 292.46875 \"/>\n<path style=\"fill:none;stroke-width:1;stroke-linecap:butt;stroke-linejoin:miter;stroke:rgb(26.666667%,26.666667%,26.666667%);stroke-opacity:1;stroke-miterlimit:10;\" d=\"M 174.089844 220.875 L 216.308594 292.46875 \"/>\n<path style=\"fill:none;stroke-width:1;stroke-linecap:butt;stroke-linejoin:miter;stroke:rgb(26.666667%,26.666667%,26.666667%);stroke-opacity:1;stroke-miterlimit:10;\" d=\"M 327.433594 229.296875 L 247.703125 128.15625 \"/>\n<path style=\"fill:none;stroke-width:1;stroke-linecap:butt;stroke-linejoin:miter;stroke:rgb(26.666667%,26.666667%,26.666667%);stroke-opacity:1;stroke-miterlimit:10;\" d=\"M 380.710938 196.953125 L 247.703125 128.15625 \"/>\n<path style=\"fill:none;stroke-width:1;stroke-linecap:butt;stroke-linejoin:miter;stroke:rgb(26.666667%,26.666667%,26.666667%);stroke-opacity:1;stroke-miterlimit:10;\" d=\"M 274.222656 20 L 247.703125 128.15625 \"/>\n<path style=\"fill:none;stroke-width:1;stroke-linecap:butt;stroke-linejoin:miter;stroke:rgb(26.666667%,26.666667%,26.666667%);stroke-opacity:1;stroke-miterlimit:10;\" d=\"M 113.421875 63.132813 L 247.703125 128.15625 \"/>\n<path style=\"fill:none;stroke-width:1;stroke-linecap:butt;stroke-linejoin:miter;stroke:rgb(26.666667%,26.666667%,26.666667%);stroke-opacity:1;stroke-miterlimit:10;\" d=\"M 216.140625 20.941406 L 247.703125 128.15625 \"/>\n<path style=\"fill:none;stroke-width:1;stroke-linecap:butt;stroke-linejoin:miter;stroke:rgb(26.666667%,26.666667%,26.666667%);stroke-opacity:1;stroke-miterlimit:10;\" d=\"M 330.046875 31.335938 L 247.703125 128.15625 \"/>\n<path style=\"fill:none;stroke-width:1;stroke-linecap:butt;stroke-linejoin:miter;stroke:rgb(26.666667%,26.666667%,26.666667%);stroke-opacity:1;stroke-miterlimit:10;\" d=\"M 160.9375 36.066406 L 247.703125 128.15625 \"/>\n<path style=\"fill:none;stroke-width:1;stroke-linecap:butt;stroke-linejoin:miter;stroke:rgb(26.666667%,26.666667%,26.666667%);stroke-opacity:1;stroke-miterlimit:10;\" d=\"M 67.382813 192.761719 L 247.703125 128.15625 \"/>\n<path style=\"fill:none;stroke-width:1;stroke-linecap:butt;stroke-linejoin:miter;stroke:rgb(26.666667%,26.666667%,26.666667%);stroke-opacity:1;stroke-miterlimit:10;\" d=\"M 93.574219 113.773438 L 247.703125 128.15625 \"/>\n<path style=\"fill:none;stroke-width:1;stroke-linecap:butt;stroke-linejoin:miter;stroke:rgb(26.666667%,26.666667%,26.666667%);stroke-opacity:1;stroke-miterlimit:10;\" d=\"M 403.230469 130.511719 L 247.703125 128.15625 \"/>\n<path style=\"fill:none;stroke-width:1;stroke-linecap:butt;stroke-linejoin:miter;stroke:rgb(26.666667%,26.666667%,26.666667%);stroke-opacity:1;stroke-miterlimit:10;\" d=\"M 216.308594 292.46875 L 247.703125 128.15625 \"/>\n<path style=\"fill:none;stroke-width:1;stroke-linecap:butt;stroke-linejoin:miter;stroke:rgb(26.666667%,26.666667%,26.666667%);stroke-opacity:1;stroke-miterlimit:10;\" d=\"M 380.710938 196.953125 L 218.285156 153.082031 \"/>\n<path style=\"fill:none;stroke-width:1;stroke-linecap:butt;stroke-linejoin:miter;stroke:rgb(26.666667%,26.666667%,26.666667%);stroke-opacity:1;stroke-miterlimit:10;\" d=\"M 365.175781 106.308594 L 218.285156 153.082031 \"/>\n<path style=\"fill:none;stroke-width:1;stroke-linecap:butt;stroke-linejoin:miter;stroke:rgb(26.666667%,26.666667%,26.666667%);stroke-opacity:1;stroke-miterlimit:10;\" d=\"M 326.605469 267.390625 L 218.285156 153.082031 \"/>\n<path style=\"fill:none;stroke-width:1;stroke-linecap:butt;stroke-linejoin:miter;stroke:rgb(26.666667%,26.666667%,26.666667%);stroke-opacity:1;stroke-miterlimit:10;\" d=\"M 274.222656 20 L 218.285156 153.082031 \"/>\n<path style=\"fill:none;stroke-width:1;stroke-linecap:butt;stroke-linejoin:miter;stroke:rgb(26.666667%,26.666667%,26.666667%);stroke-opacity:1;stroke-miterlimit:10;\" d=\"M 113.421875 63.132813 L 218.285156 153.082031 \"/>\n<path style=\"fill:none;stroke-width:1;stroke-linecap:butt;stroke-linejoin:miter;stroke:rgb(26.666667%,26.666667%,26.666667%);stroke-opacity:1;stroke-miterlimit:10;\" d=\"M 216.140625 20.941406 L 218.285156 153.082031 \"/>\n<path style=\"fill:none;stroke-width:1;stroke-linecap:butt;stroke-linejoin:miter;stroke:rgb(26.666667%,26.666667%,26.666667%);stroke-opacity:1;stroke-miterlimit:10;\" d=\"M 287.335938 277.863281 L 218.285156 153.082031 \"/>\n<path style=\"fill:none;stroke-width:1;stroke-linecap:butt;stroke-linejoin:miter;stroke:rgb(26.666667%,26.666667%,26.666667%);stroke-opacity:1;stroke-miterlimit:10;\" d=\"M 330.046875 31.335938 L 218.285156 153.082031 \"/>\n<path style=\"fill:none;stroke-width:1;stroke-linecap:butt;stroke-linejoin:miter;stroke:rgb(26.666667%,26.666667%,26.666667%);stroke-opacity:1;stroke-miterlimit:10;\" d=\"M 160.9375 36.066406 L 218.285156 153.082031 \"/>\n<path style=\"fill:none;stroke-width:1;stroke-linecap:butt;stroke-linejoin:miter;stroke:rgb(26.666667%,26.666667%,26.666667%);stroke-opacity:1;stroke-miterlimit:10;\" d=\"M 67.382813 192.761719 L 218.285156 153.082031 \"/>\n<path style=\"fill:none;stroke-width:1;stroke-linecap:butt;stroke-linejoin:miter;stroke:rgb(26.666667%,26.666667%,26.666667%);stroke-opacity:1;stroke-miterlimit:10;\" d=\"M 20 127.859375 L 218.285156 153.082031 \"/>\n<path style=\"fill:none;stroke-width:1;stroke-linecap:butt;stroke-linejoin:miter;stroke:rgb(26.666667%,26.666667%,26.666667%);stroke-opacity:1;stroke-miterlimit:10;\" d=\"M 143.476563 259.753906 L 218.285156 153.082031 \"/>\n<path style=\"fill:none;stroke-width:1;stroke-linecap:butt;stroke-linejoin:miter;stroke:rgb(26.666667%,26.666667%,26.666667%);stroke-opacity:1;stroke-miterlimit:10;\" d=\"M 174.089844 220.875 L 218.285156 153.082031 \"/>\n<path style=\"fill:none;stroke-width:1;stroke-linecap:butt;stroke-linejoin:miter;stroke:rgb(26.666667%,26.666667%,26.666667%);stroke-opacity:1;stroke-miterlimit:10;\" d=\"M 93.574219 113.773438 L 218.285156 153.082031 \"/>\n<path style=\"fill:none;stroke-width:1;stroke-linecap:butt;stroke-linejoin:miter;stroke:rgb(26.666667%,26.666667%,26.666667%);stroke-opacity:1;stroke-miterlimit:10;\" d=\"M 403.230469 130.511719 L 218.285156 153.082031 \"/>\n<path style=\"fill:none;stroke-width:1;stroke-linecap:butt;stroke-linejoin:miter;stroke:rgb(26.666667%,26.666667%,26.666667%);stroke-opacity:1;stroke-miterlimit:10;\" d=\"M 216.308594 292.46875 L 218.285156 153.082031 \"/>\n<path style=\"fill:none;stroke-width:1;stroke-linecap:butt;stroke-linejoin:miter;stroke:rgb(26.666667%,26.666667%,26.666667%);stroke-opacity:1;stroke-miterlimit:10;\" d=\"M 247.703125 128.15625 L 218.285156 153.082031 \"/>\n<path style=\"fill-rule:nonzero;fill:rgb(100%,0%,0%);fill-opacity:1;stroke-width:1;stroke-linecap:butt;stroke-linejoin:miter;stroke:rgb(0%,0%,0%);stroke-opacity:1;stroke-miterlimit:10;\" d=\"M 417.597656 345.757813 C 417.597656 351.277344 413.121094 355.757813 407.597656 355.757813 C 402.074219 355.757813 397.597656 351.277344 397.597656 345.757813 C 397.597656 340.234375 402.074219 335.757813 407.597656 335.757813 C 413.121094 335.757813 417.597656 340.234375 417.597656 345.757813 \"/>\n<path style=\"fill-rule:nonzero;fill:rgb(100%,0%,0%);fill-opacity:1;stroke-width:1;stroke-linecap:butt;stroke-linejoin:miter;stroke:rgb(0%,0%,0%);stroke-opacity:1;stroke-miterlimit:10;\" d=\"M 450.75 265.945313 C 450.75 271.46875 446.273438 275.945313 440.75 275.945313 C 435.226563 275.945313 430.75 271.46875 430.75 265.945313 C 430.75 260.421875 435.226563 255.945313 440.75 255.945313 C 446.273438 255.945313 450.75 260.421875 450.75 265.945313 \"/>\n<path style=\"fill-rule:nonzero;fill:rgb(100%,0%,0%);fill-opacity:1;stroke-width:1;stroke-linecap:butt;stroke-linejoin:miter;stroke:rgb(0%,0%,0%);stroke-opacity:1;stroke-miterlimit:10;\" d=\"M 337.433594 229.296875 C 337.433594 234.820313 332.957031 239.296875 327.433594 239.296875 C 321.910156 239.296875 317.433594 234.820313 317.433594 229.296875 C 317.433594 223.773438 321.910156 219.296875 327.433594 219.296875 C 332.957031 219.296875 337.433594 223.773438 337.433594 229.296875 \"/>\n<path style=\"fill-rule:nonzero;fill:rgb(100%,0%,0%);fill-opacity:1;stroke-width:1;stroke-linecap:butt;stroke-linejoin:miter;stroke:rgb(0%,0%,0%);stroke-opacity:1;stroke-miterlimit:10;\" d=\"M 357.5 344.527344 C 357.5 350.050781 353.023438 354.527344 347.5 354.527344 C 341.976563 354.527344 337.5 350.050781 337.5 344.527344 C 337.5 339.003906 341.976563 334.527344 347.5 334.527344 C 353.023438 334.527344 357.5 339.003906 357.5 344.527344 \"/>\n<path style=\"fill-rule:nonzero;fill:rgb(100%,0%,0%);fill-opacity:1;stroke-width:1;stroke-linecap:butt;stroke-linejoin:miter;stroke:rgb(0%,0%,0%);stroke-opacity:1;stroke-miterlimit:10;\" d=\"M 502.699219 424.453125 C 502.699219 429.976563 498.222656 434.453125 492.699219 434.453125 C 487.175781 434.453125 482.699219 429.976563 482.699219 424.453125 C 482.699219 418.929688 487.175781 414.453125 492.699219 414.453125 C 498.222656 414.453125 502.699219 418.929688 502.699219 424.453125 \"/>\n<path style=\"fill-rule:nonzero;fill:rgb(100%,0%,0%);fill-opacity:1;stroke-width:1;stroke-linecap:butt;stroke-linejoin:miter;stroke:rgb(0%,0%,0%);stroke-opacity:1;stroke-miterlimit:10;\" d=\"M 501.773438 462.351563 C 501.773438 467.875 497.296875 472.351563 491.773438 472.351563 C 486.25 472.351563 481.773438 467.875 481.773438 462.351563 C 481.773438 456.828125 486.25 452.351563 491.773438 452.351563 C 497.296875 452.351563 501.773438 456.828125 501.773438 462.351563 \"/>\n<path style=\"fill-rule:nonzero;fill:rgb(100%,0%,0%);fill-opacity:1;stroke-width:1;stroke-linecap:butt;stroke-linejoin:miter;stroke:rgb(0%,0%,0%);stroke-opacity:1;stroke-miterlimit:10;\" d=\"M 419.332031 482.472656 C 419.332031 487.996094 414.855469 492.472656 409.332031 492.472656 C 403.808594 492.472656 399.332031 487.996094 399.332031 482.472656 C 399.332031 476.949219 403.808594 472.472656 409.332031 472.472656 C 414.855469 472.472656 419.332031 476.949219 419.332031 482.472656 \"/>\n<path style=\"fill-rule:nonzero;fill:rgb(100%,0%,0%);fill-opacity:1;stroke-width:1;stroke-linecap:butt;stroke-linejoin:miter;stroke:rgb(0%,0%,0%);stroke-opacity:1;stroke-miterlimit:10;\" d=\"M 501.648438 253.769531 C 501.648438 259.292969 497.167969 263.769531 491.648438 263.769531 C 486.125 263.769531 481.648438 259.292969 481.648438 253.769531 C 481.648438 248.246094 486.125 243.769531 491.648438 243.769531 C 497.167969 243.769531 501.648438 248.246094 501.648438 253.769531 \"/>\n<path style=\"fill-rule:nonzero;fill:rgb(100%,0%,0%);fill-opacity:1;stroke-width:1;stroke-linecap:butt;stroke-linejoin:miter;stroke:rgb(0%,0%,0%);stroke-opacity:1;stroke-miterlimit:10;\" d=\"M 390.710938 196.953125 C 390.710938 202.476563 386.234375 206.953125 380.710938 206.953125 C 375.1875 206.953125 370.710938 202.476563 370.710938 196.953125 C 370.710938 191.429688 375.1875 186.953125 380.710938 186.953125 C 386.234375 186.953125 390.710938 191.429688 390.710938 196.953125 \"/>\n<path style=\"fill-rule:nonzero;fill:rgb(100%,0%,0%);fill-opacity:1;stroke-width:1;stroke-linecap:butt;stroke-linejoin:miter;stroke:rgb(0%,0%,0%);stroke-opacity:1;stroke-miterlimit:10;\" d=\"M 375.175781 106.308594 C 375.175781 111.828125 370.699219 116.308594 365.175781 116.308594 C 359.652344 116.308594 355.175781 111.828125 355.175781 106.308594 C 355.175781 100.785156 359.652344 96.308594 365.175781 96.308594 C 370.699219 96.308594 375.175781 100.785156 375.175781 106.308594 \"/>\n<path style=\"fill-rule:nonzero;fill:rgb(100%,0%,0%);fill-opacity:1;stroke-width:1;stroke-linecap:butt;stroke-linejoin:miter;stroke:rgb(0%,0%,0%);stroke-opacity:1;stroke-miterlimit:10;\" d=\"M 576.023438 392.976563 C 576.023438 398.5 571.546875 402.976563 566.023438 402.976563 C 560.5 402.976563 556.023438 398.5 556.023438 392.976563 C 556.023438 387.453125 560.5 382.976563 566.023438 382.976563 C 571.546875 382.976563 576.023438 387.453125 576.023438 392.976563 \"/>\n<path style=\"fill-rule:nonzero;fill:rgb(100%,0%,0%);fill-opacity:1;stroke-width:1;stroke-linecap:butt;stroke-linejoin:miter;stroke:rgb(0%,0%,0%);stroke-opacity:1;stroke-miterlimit:10;\" d=\"M 290.117188 464.125 C 290.117188 469.648438 285.640625 474.125 280.117188 474.125 C 274.597656 474.125 270.117188 469.648438 270.117188 464.125 C 270.117188 458.601563 274.597656 454.125 280.117188 454.125 C 285.640625 454.125 290.117188 458.601563 290.117188 464.125 \"/>\n<path style=\"fill-rule:nonzero;fill:rgb(100%,0%,0%);fill-opacity:1;stroke-width:1;stroke-linecap:butt;stroke-linejoin:miter;stroke:rgb(0%,0%,0%);stroke-opacity:1;stroke-miterlimit:10;\" d=\"M 345.769531 452.640625 C 345.769531 458.164063 341.292969 462.640625 335.769531 462.640625 C 330.25 462.640625 325.769531 458.164063 325.769531 452.640625 C 325.769531 447.117188 330.25 442.640625 335.769531 442.640625 C 341.292969 442.640625 345.769531 447.117188 345.769531 452.640625 \"/>\n<path style=\"fill-rule:nonzero;fill:rgb(100%,0%,0%);fill-opacity:1;stroke-width:1;stroke-linecap:butt;stroke-linejoin:miter;stroke:rgb(0%,0%,0%);stroke-opacity:1;stroke-miterlimit:10;\" d=\"M 336.605469 267.390625 C 336.605469 272.914063 332.128906 277.390625 326.605469 277.390625 C 321.082031 277.390625 316.605469 272.914063 316.605469 267.390625 C 316.605469 261.867188 321.082031 257.390625 326.605469 257.390625 C 332.128906 257.390625 336.605469 261.867188 336.605469 267.390625 \"/>\n<path style=\"fill-rule:nonzero;fill:rgb(100%,0%,0%);fill-opacity:1;stroke-width:1;stroke-linecap:butt;stroke-linejoin:miter;stroke:rgb(0%,0%,0%);stroke-opacity:1;stroke-miterlimit:10;\" d=\"M 284.222656 20 C 284.222656 25.523438 279.746094 30 274.222656 30 C 268.699219 30 264.222656 25.523438 264.222656 20 C 264.222656 14.476563 268.699219 10 274.222656 10 C 279.746094 10 284.222656 14.476563 284.222656 20 \"/>\n<path style=\"fill-rule:nonzero;fill:rgb(100%,0%,0%);fill-opacity:1;stroke-width:1;stroke-linecap:butt;stroke-linejoin:miter;stroke:rgb(0%,0%,0%);stroke-opacity:1;stroke-miterlimit:10;\" d=\"M 123.421875 63.132813 C 123.421875 68.65625 118.945313 73.132813 113.421875 73.132813 C 107.898438 73.132813 103.421875 68.65625 103.421875 63.132813 C 103.421875 57.609375 107.898438 53.132813 113.421875 53.132813 C 118.945313 53.132813 123.421875 57.609375 123.421875 63.132813 \"/>\n<path style=\"fill-rule:nonzero;fill:rgb(100%,0%,0%);fill-opacity:1;stroke-width:1;stroke-linecap:butt;stroke-linejoin:miter;stroke:rgb(0%,0%,0%);stroke-opacity:1;stroke-miterlimit:10;\" d=\"M 513.9375 580 C 513.9375 585.523438 509.460938 590 503.9375 590 C 498.414063 590 493.9375 585.523438 493.9375 580 C 493.9375 574.476563 498.414063 570 503.9375 570 C 509.460938 570 513.9375 574.476563 513.9375 580 \"/>\n<path style=\"fill-rule:nonzero;fill:rgb(100%,0%,0%);fill-opacity:1;stroke-width:1;stroke-linecap:butt;stroke-linejoin:miter;stroke:rgb(0%,0%,0%);stroke-opacity:1;stroke-miterlimit:10;\" d=\"M 578.066406 324.976563 C 578.066406 330.5 573.589844 334.976563 568.066406 334.976563 C 562.542969 334.976563 558.066406 330.5 558.066406 324.976563 C 558.066406 319.453125 562.542969 314.976563 568.066406 314.976563 C 573.589844 314.976563 578.066406 319.453125 578.066406 324.976563 \"/>\n<path style=\"fill-rule:nonzero;fill:rgb(100%,0%,0%);fill-opacity:1;stroke-width:1;stroke-linecap:butt;stroke-linejoin:miter;stroke:rgb(0%,0%,0%);stroke-opacity:1;stroke-miterlimit:10;\" d=\"M 226.140625 20.941406 C 226.140625 26.464844 221.664063 30.941406 216.140625 30.941406 C 210.617188 30.941406 206.140625 26.464844 206.140625 20.941406 C 206.140625 15.417969 210.617188 10.941406 216.140625 10.941406 C 221.664063 10.941406 226.140625 15.417969 226.140625 20.941406 \"/>\n<path style=\"fill-rule:nonzero;fill:rgb(100%,0%,0%);fill-opacity:1;stroke-width:1;stroke-linecap:butt;stroke-linejoin:miter;stroke:rgb(0%,0%,0%);stroke-opacity:1;stroke-miterlimit:10;\" d=\"M 297.335938 277.863281 C 297.335938 283.386719 292.859375 287.863281 287.335938 287.863281 C 281.8125 287.863281 277.335938 283.386719 277.335938 277.863281 C 277.335938 272.339844 281.8125 267.863281 287.335938 267.863281 C 292.859375 267.863281 297.335938 272.339844 297.335938 277.863281 \"/>\n<path style=\"fill-rule:nonzero;fill:rgb(100%,0%,0%);fill-opacity:1;stroke-width:1;stroke-linecap:butt;stroke-linejoin:miter;stroke:rgb(0%,0%,0%);stroke-opacity:1;stroke-miterlimit:10;\" d=\"M 340.046875 31.335938 C 340.046875 36.855469 335.570313 41.335938 330.046875 41.335938 C 324.523438 41.335938 320.046875 36.855469 320.046875 31.335938 C 320.046875 25.8125 324.523438 21.335938 330.046875 21.335938 C 335.570313 21.335938 340.046875 25.8125 340.046875 31.335938 \"/>\n<path style=\"fill-rule:nonzero;fill:rgb(100%,0%,0%);fill-opacity:1;stroke-width:1;stroke-linecap:butt;stroke-linejoin:miter;stroke:rgb(0%,0%,0%);stroke-opacity:1;stroke-miterlimit:10;\" d=\"M 590 278 C 590 283.523438 585.523438 288 580 288 C 574.476563 288 570 283.523438 570 278 C 570 272.476563 574.476563 268 580 268 C 585.523438 268 590 272.476563 590 278 \"/>\n<path style=\"fill-rule:nonzero;fill:rgb(100%,0%,0%);fill-opacity:1;stroke-width:1;stroke-linecap:butt;stroke-linejoin:miter;stroke:rgb(0%,0%,0%);stroke-opacity:1;stroke-miterlimit:10;\" d=\"M 170.9375 36.066406 C 170.9375 41.589844 166.460938 46.066406 160.9375 46.066406 C 155.414063 46.066406 150.9375 41.589844 150.9375 36.066406 C 150.9375 30.542969 155.414063 26.066406 160.9375 26.066406 C 166.460938 26.066406 170.9375 30.542969 170.9375 36.066406 \"/>\n<path style=\"fill-rule:nonzero;fill:rgb(100%,0%,0%);fill-opacity:1;stroke-width:1;stroke-linecap:butt;stroke-linejoin:miter;stroke:rgb(0%,0%,0%);stroke-opacity:1;stroke-miterlimit:10;\" d=\"M 77.382813 192.761719 C 77.382813 198.28125 72.90625 202.761719 67.382813 202.761719 C 61.859375 202.761719 57.382813 198.28125 57.382813 192.761719 C 57.382813 187.238281 61.859375 182.761719 67.382813 182.761719 C 72.90625 182.761719 77.382813 187.238281 77.382813 192.761719 \"/>\n<path style=\"fill-rule:nonzero;fill:rgb(100%,0%,0%);fill-opacity:1;stroke-width:1;stroke-linecap:butt;stroke-linejoin:miter;stroke:rgb(0%,0%,0%);stroke-opacity:1;stroke-miterlimit:10;\" d=\"M 103.996094 376.390625 C 103.996094 381.914063 99.519531 386.390625 93.996094 386.390625 C 88.472656 386.390625 83.996094 381.914063 83.996094 376.390625 C 83.996094 370.867188 88.472656 366.390625 93.996094 366.390625 C 99.519531 366.390625 103.996094 370.867188 103.996094 376.390625 \"/>\n<path style=\"fill-rule:nonzero;fill:rgb(100%,0%,0%);fill-opacity:1;stroke-width:1;stroke-linecap:butt;stroke-linejoin:miter;stroke:rgb(0%,0%,0%);stroke-opacity:1;stroke-miterlimit:10;\" d=\"M 44.351563 317.734375 C 44.351563 323.257813 39.875 327.734375 34.351563 327.734375 C 28.828125 327.734375 24.351563 323.257813 24.351563 317.734375 C 24.351563 312.214844 28.828125 307.734375 34.351563 307.734375 C 39.875 307.734375 44.351563 312.214844 44.351563 317.734375 \"/>\n<path style=\"fill-rule:nonzero;fill:rgb(100%,0%,0%);fill-opacity:1;stroke-width:1;stroke-linecap:butt;stroke-linejoin:miter;stroke:rgb(0%,0%,0%);stroke-opacity:1;stroke-miterlimit:10;\" d=\"M 30 127.859375 C 30 133.382813 25.523438 137.859375 20 137.859375 C 14.476563 137.859375 10 133.382813 10 127.859375 C 10 122.335938 14.476563 117.859375 20 117.859375 C 25.523438 117.859375 30 122.335938 30 127.859375 \"/>\n<path style=\"fill-rule:nonzero;fill:rgb(100%,0%,0%);fill-opacity:1;stroke-width:1;stroke-linecap:butt;stroke-linejoin:miter;stroke:rgb(0%,0%,0%);stroke-opacity:1;stroke-miterlimit:10;\" d=\"M 153.476563 259.753906 C 153.476563 265.277344 149 269.753906 143.476563 269.753906 C 137.953125 269.753906 133.476563 265.277344 133.476563 259.753906 C 133.476563 254.230469 137.953125 249.753906 143.476563 249.753906 C 149 249.753906 153.476563 254.230469 153.476563 259.753906 \"/>\n<path style=\"fill-rule:nonzero;fill:rgb(100%,0%,0%);fill-opacity:1;stroke-width:1;stroke-linecap:butt;stroke-linejoin:miter;stroke:rgb(0%,0%,0%);stroke-opacity:1;stroke-miterlimit:10;\" d=\"M 184.089844 220.875 C 184.089844 226.398438 179.613281 230.875 174.089844 230.875 C 168.566406 230.875 164.089844 226.398438 164.089844 220.875 C 164.089844 215.351563 168.566406 210.875 174.089844 210.875 C 179.613281 210.875 184.089844 215.351563 184.089844 220.875 \"/>\n<path style=\"fill-rule:nonzero;fill:rgb(100%,0%,0%);fill-opacity:1;stroke-width:1;stroke-linecap:butt;stroke-linejoin:miter;stroke:rgb(0%,0%,0%);stroke-opacity:1;stroke-miterlimit:10;\" d=\"M 103.574219 113.773438 C 103.574219 119.296875 99.097656 123.773438 93.574219 123.773438 C 88.050781 123.773438 83.574219 119.296875 83.574219 113.773438 C 83.574219 108.25 88.050781 103.773438 93.574219 103.773438 C 99.097656 103.773438 103.574219 108.25 103.574219 113.773438 \"/>\n<path style=\"fill-rule:nonzero;fill:rgb(100%,0%,0%);fill-opacity:1;stroke-width:1;stroke-linecap:butt;stroke-linejoin:miter;stroke:rgb(0%,0%,0%);stroke-opacity:1;stroke-miterlimit:10;\" d=\"M 413.230469 130.511719 C 413.230469 136.035156 408.753906 140.511719 403.230469 140.511719 C 397.707031 140.511719 393.230469 136.035156 393.230469 130.511719 C 393.230469 124.992188 397.707031 120.511719 403.230469 120.511719 C 408.753906 120.511719 413.230469 124.992188 413.230469 130.511719 \"/>\n<path style=\"fill-rule:nonzero;fill:rgb(100%,0%,0%);fill-opacity:1;stroke-width:1;stroke-linecap:butt;stroke-linejoin:miter;stroke:rgb(0%,0%,0%);stroke-opacity:1;stroke-miterlimit:10;\" d=\"M 226.308594 292.46875 C 226.308594 297.992188 221.832031 302.46875 216.308594 302.46875 C 210.785156 302.46875 206.308594 297.992188 206.308594 292.46875 C 206.308594 286.945313 210.785156 282.46875 216.308594 282.46875 C 221.832031 282.46875 226.308594 286.945313 226.308594 292.46875 \"/>\n<path style=\"fill-rule:nonzero;fill:rgb(100%,0%,0%);fill-opacity:1;stroke-width:1;stroke-linecap:butt;stroke-linejoin:miter;stroke:rgb(0%,0%,0%);stroke-opacity:1;stroke-miterlimit:10;\" d=\"M 257.703125 128.15625 C 257.703125 133.679688 253.226563 138.15625 247.703125 138.15625 C 242.179688 138.15625 237.703125 133.679688 237.703125 128.15625 C 237.703125 122.632813 242.179688 118.15625 247.703125 118.15625 C 253.226563 118.15625 257.703125 122.632813 257.703125 128.15625 \"/>\n<path style=\"fill-rule:nonzero;fill:rgb(100%,0%,0%);fill-opacity:1;stroke-width:1;stroke-linecap:butt;stroke-linejoin:miter;stroke:rgb(0%,0%,0%);stroke-opacity:1;stroke-miterlimit:10;\" d=\"M 228.285156 153.082031 C 228.285156 158.605469 223.808594 163.082031 218.285156 163.082031 C 212.761719 163.082031 208.285156 158.605469 208.285156 153.082031 C 208.285156 147.558594 212.761719 143.082031 218.285156 143.082031 C 223.808594 143.082031 228.285156 147.558594 228.285156 153.082031 \"/>\n</g>\n</svg>\n",
      "text/plain": [
       "<igraph.drawing.Plot at 0xb9ce50>"
      ]
     },
     "execution_count": 249,
     "metadata": {
      "image/svg+xml": {
       "isolated": true
      }
     },
     "output_type": "execute_result"
    }
   ],
   "source": [
    "plot(g)"
   ]
  },
  {
   "cell_type": "code",
   "execution_count": 250,
   "metadata": {},
   "outputs": [],
   "source": [
    "neighbors=[]\n",
    "for i in range(34):\n",
    "    temp=g.neighbors(vertex=i)\n",
    "    neighbors.append(temp)"
   ]
  },
  {
   "cell_type": "code",
   "execution_count": 251,
   "metadata": {},
   "outputs": [
    {
     "data": {
      "text/plain": [
       "array([[0., 1., 1., ..., 1., 0., 0.],\n",
       "       [1., 0., 1., ..., 0., 0., 0.],\n",
       "       [1., 1., 0., ..., 0., 1., 0.],\n",
       "       ...,\n",
       "       [1., 0., 0., ..., 0., 1., 1.],\n",
       "       [0., 0., 1., ..., 1., 0., 1.],\n",
       "       [0., 0., 0., ..., 1., 1., 0.]])"
      ]
     },
     "execution_count": 251,
     "metadata": {},
     "output_type": "execute_result"
    }
   ],
   "source": [
    "A=np.zeros((34,34))\n",
    "for i in range(34):\n",
    "    for j in range(34):\n",
    "        if i==j:\n",
    "            break\n",
    "        if j in neighbors[i]:\n",
    "            A[i][j]=1\n",
    "            A[j][i]=1\n",
    "A"
   ]
  },
  {
   "cell_type": "code",
   "execution_count": 252,
   "metadata": {},
   "outputs": [
    {
     "data": {
      "text/plain": [
       "array([[1.        , 0.38888889, 0.23809524, ..., 0.        , 0.12      ,\n",
       "        0.13793103],\n",
       "       [0.38888889, 1.        , 0.26666667, ..., 0.07142857, 0.10526316,\n",
       "        0.13043478],\n",
       "       [0.23809524, 0.26666667, 1.        , ..., 0.23076923, 0.04761905,\n",
       "        0.28571429],\n",
       "       ...,\n",
       "       [0.        , 0.07142857, 0.23076923, ..., 1.        , 0.05882353,\n",
       "        0.0952381 ],\n",
       "       [0.12      , 0.10526316, 0.04761905, ..., 0.05882353, 1.        ,\n",
       "        0.52631579],\n",
       "       [0.13793103, 0.13043478, 0.28571429, ..., 0.0952381 , 0.52631579,\n",
       "        1.        ]])"
      ]
     },
     "execution_count": 252,
     "metadata": {},
     "output_type": "execute_result"
    }
   ],
   "source": [
    "similar=np.zeros((34,34))\n",
    "for i in range(34):\n",
    "    for j in range(34):\n",
    "        p=[]\n",
    "        q=[]\n",
    "        for k in range(34):\n",
    "            if(i in neighbors[k] and j in neighbors[k]):\n",
    "                p.append(k)\n",
    "            if(i in neighbors[k] or j in neighbors[k]):\n",
    "                q.append(k)\n",
    "        l1=len(p)\n",
    "        l2=len(q)\n",
    "        similar[i][j]=l1/l2\n",
    "        similar[j][i]=l1/l2\n",
    "similar"
   ]
  },
  {
   "cell_type": "code",
   "execution_count": 253,
   "metadata": {},
   "outputs": [],
   "source": [
    "for i in range(34):\n",
    "    similar[i][i]=0"
   ]
  },
  {
   "cell_type": "code",
   "execution_count": 254,
   "metadata": {},
   "outputs": [],
   "source": [
    "def cluster(sim):\n",
    "    m = len(sim)\n",
    "    max_s = 0\n",
    "    x = 0\n",
    "    y = 0\n",
    "    # 选出最大相似度\n",
    "    for i in range(m):\n",
    "        for j in range(m):\n",
    "            if(similar[i][j] > max_s):\n",
    "                x = i\n",
    "                y = j\n",
    "                max_s = sim[i][j]\n",
    "    # 全链算法更新相似度矩阵\n",
    "    for i in range(m):\n",
    "        similar[x][i] = min(similar[x][i], similar[y][i])\n",
    "        similar[y][i] = min(similar[x][i], similar[y][i])\n",
    "    return x, y\t"
   ]
  },
  {
   "cell_type": "code",
   "execution_count": 255,
   "metadata": {},
   "outputs": [],
   "source": [
    "Q_list=[]\n",
    "degrees=g.degree()\n",
    "def compute_Q(f, adjacency):\n",
    "    Q = 0\n",
    "    for i in range(M):\n",
    "        for j in range(M):\n",
    "            if f[i] == f[j]:\n",
    "                Q += (adjacency[i][j]-(degrees[i]*degrees[j]/(2*M)))/(2*M)\n",
    "            else:\n",
    "                Q += 0\n",
    "    Q_list.append(Q)\n",
    "    return Q"
   ]
  },
  {
   "cell_type": "code",
   "execution_count": 256,
   "metadata": {},
   "outputs": [],
   "source": [
    "def outputData(clusters,  edges):   # 输出无向图的连接关系，输出分类结果\n",
    "    edge_out = []\n",
    "    graph_file = 'graph.csv'\n",
    "    name1 = ['nodea',  'edgetype',  'nodeb']\n",
    "    for edge in edges:\n",
    "        edge_out.append((edge[0]+1, 1, edge[1]+1))\n",
    "    out1 = pd.DataFrame(columns=name1, data=edge_out)\n",
    "    out1.to_csv(graph_file)\n",
    "\n",
    "    attribute_file = 'class.csv'\n",
    "    name2 = ['node',  'class']\n",
    "    attribute_out = []\n",
    "    for i in range(1, M+1):\n",
    "        attribute_out.append((i, clusters[i-1]))\n",
    "    out2 = pd.DataFrame(columns=name2,  data=attribute_out)\n",
    "    out2.to_csv(attribute_file)"
   ]
  },
  {
   "cell_type": "code",
   "execution_count": 257,
   "metadata": {},
   "outputs": [],
   "source": [
    "def draw():\n",
    "    plt.figure(1)\n",
    "    plt.plot(range(len(Q_list)),Q_list,color=\"b\",linewidth=2)\n",
    "    plt.xlabel('merge times')\n",
    "    plt.ylabel(\"Q\")\n",
    "    plt.scatter(range(len(Q_list)),Q_list,linewidths=3,s=3,c='b')\n",
    "    f1 = plt.gcf()\n",
    "    plt.show()"
   ]
  },
  {
   "cell_type": "code",
   "execution_count": 258,
   "metadata": {},
   "outputs": [],
   "source": [
    "clusters=[-1 for i in range(34)]\n",
    "clusters[0]=-1\n",
    "i=0\n",
    "flag=0\n",
    "Q=0\n",
    "q_max=-1\n",
    "edgelist=Graph.get_edgelist(g)\n",
    "M=34"
   ]
  },
  {
   "cell_type": "code",
   "execution_count": 259,
   "metadata": {},
   "outputs": [],
   "source": [
    "while(i < 100):\n",
    "    x, y = cluster(similar)\n",
    "    similar[x][y]=0\n",
    "    if clusters[x] != -1 and clusters[y] != -1:   # x,y都已经分类，则将x, y的聚类合并成为一个，这里采用合并树的思想，将相同簇的节点遍历并进行修改\n",
    "        temp = clusters[y]\n",
    "        for j in range(M):\n",
    "            if clusters[j] == temp:\n",
    "                clusters[j] = clusters[x]\n",
    "    if clusters[x] == -1 or clusters[y] == -1:      # 两个簇中至少有一个未分类\n",
    "        if clusters[x] == -1 and clusters[y] == -1:     # 两个簇都未分类\n",
    "            flag += 1                                 # 新建一个分类保存此簇\n",
    "            clusters[x] = clusters[y] = flag\n",
    "        elif clusters[x] == -1:                 # x未分类y已分类，将x并到y上去\n",
    "            clusters[x] = clusters[y]\n",
    "        elif clusters[y] == -1:                 # x已分类y未分类，将y并到x上去\n",
    "            clusters[y] = clusters[x]\n",
    "    Q = compute_Q(clusters, A)\n",
    "    if(Q > q_max):\t\t# 输出Q值最大的情况的分类\n",
    "        outputData(clusters, edgelist)\n",
    "        q_max = Q\n",
    "    i += 1"
   ]
  },
  {
   "cell_type": "code",
   "execution_count": 260,
   "metadata": {},
   "outputs": [
    {
     "data": {
      "image/png": "[encoded data removed]",
      "text/plain": [
       "<Figure size 432x288 with 1 Axes>"
      ]
     },
     "metadata": {
      "needs_background": "light"
     },
     "output_type": "display_data"
    }
   ],
   "source": [
    "draw()"
   ]
  }
 ],
 "metadata": {
  "interpreter": {
   "hash": "51a9663a131f1b5758c45b97a2d6917c8ae86b33e231c3733631cbc7265cfc89"
  },
  "kernelspec": {
   "display_name": "Python 3.8.8 64-bit ('base': conda)",
   "language": "python",
   "name": "python3"
  },
  "language_info": {
   "codemirror_mode": {
    "name": "ipython",
    "version": 3
   },
   "file_extension": ".py",
   "mimetype": "text/x-python",
   "name": "python",
   "nbconvert_exporter": "python",
   "pygments_lexer": "ipython3",
   "version": "3.7.3"
  },
  "orig_nbformat": 4
 },
 "nbformat": 4,
 "nbformat_minor": 2
}
