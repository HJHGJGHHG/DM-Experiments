{
 "cells": [
  {
   "cell_type": "code",
   "execution_count": 1,
   "metadata": {},
   "outputs": [],
   "source": [
    "# 加载数据\n",
    "import pandas as pd\n",
    "import numpy as np\n",
    "import config\n",
    "import pickle as pkl\n",
    "\n",
    "args = config.args_initialization()\n",
    "\n",
    "movie_names = ['movie_id', 'movie_title', 'movie_type']\n",
    "movie = pd.read_table(args.path + 'movies.dat', sep='::', header=None,\n",
    "                      names=movie_names, engine='python', encoding=\"ISO-8859-1\")\n",
    "user_names = ['user_id', 'user_gender', 'user_age', 'user_job', 'zip']\n",
    "user = pd.read_table(args.path + 'users.dat', sep='::', header=None,\n",
    "                     names=user_names, engine='python')\n",
    "rating_names = ['user_id', 'movie_id', 'rank', 'timestamp']\n",
    "rating = pd.read_table(args.path + 'ratings.dat', sep='::',\n",
    "                       header=None, names=rating_names, engine='python')"
   ]
  },
  {
   "cell_type": "code",
   "execution_count": 2,
   "metadata": {
    "collapsed": false,
    "jupyter": {
     "outputs_hidden": false
    },
    "pycharm": {
     "name": "#%%\n"
    }
   },
   "outputs": [],
   "source": [
    "# 剔除无关列\n",
    "user = user.drop(['zip'], axis=1)\n",
    "rating = rating.drop(['timestamp'], axis=1)"
   ]
  },
  {
   "cell_type": "code",
   "execution_count": 3,
   "metadata": {
    "collapsed": false,
    "jupyter": {
     "outputs_hidden": false
    },
    "pycharm": {
     "name": "#%%\n"
    }
   },
   "outputs": [],
   "source": [
    "users_raw_dict = {}\n",
    "movies_raw_dict = {}\n",
    "for i in range(len(user)):\n",
    "    user_raw_dict = {'User_ID': user['user_id'][i], 'Gender': user['user_gender'][i], 'Age': user['user_age'][i],\n",
    "                     'Job': user['user_job'][i]}\n",
    "    users_raw_dict[user['user_id'][i]] = user_raw_dict\n",
    "\n",
    "for j in range(len(movie)):\n",
    "    movie_raw_dict = {'Movie_ID': movie['movie_id'][j], 'Movie_Title': movie['movie_title'][j],\n",
    "                      'Movie_Type': movie['movie_type'][j]}\n",
    "    movies_raw_dict[movie['movie_id'][j]] = movie_raw_dict\n",
    "\n",
    "pkl.dump(users_raw_dict, open(args.path + 'users_raw.pkl', 'wb'))\n",
    "pkl.dump(movies_raw_dict, open(args.path + 'movies_raw.pkl', 'wb'))"
   ]
  },
  {
   "cell_type": "code",
   "execution_count": 4,
   "outputs": [],
   "source": [
    "# User 相关数据处理\n",
    "user['user_gender'] = user['user_gender'].apply(lambda x: [1, 0] if x == 'F' else [0, 1])\n",
    "\n",
    "\n",
    "def convert_age_to_One_Hot(age):\n",
    "    if age == 1:\n",
    "        return [1, 0, 0, 0, 0, 0, 0]\n",
    "    elif age == 18:\n",
    "        return [0, 1, 0, 0, 0, 0, 0]\n",
    "    elif age == 25:\n",
    "        return [0, 0, 1, 0, 0, 0, 0]\n",
    "    elif age == 35:\n",
    "        return [0, 0, 0, 1, 0, 0, 0]\n",
    "    elif age == 45:\n",
    "        return [0, 0, 0, 0, 1, 0, 0]\n",
    "    elif age == 50:\n",
    "        return [0, 0, 0, 0, 0, 1, 0]\n",
    "    else:\n",
    "        return [0, 0, 0, 0, 0, 0, 1]\n",
    "\n",
    "\n",
    "def convert_job_to_One_Hot(job):\n",
    "    jobs = [0] * 21\n",
    "    jobs[job] += 1\n",
    "    return jobs\n",
    "\n",
    "\n",
    "user['user_age'] = user['user_age'].apply(convert_age_to_One_Hot)\n",
    "user['user_job'] = user['user_job'].apply(convert_job_to_One_Hot)"
   ],
   "metadata": {
    "collapsed": false,
    "pycharm": {
     "name": "#%%\n"
    }
   }
  },
  {
   "cell_type": "code",
   "execution_count": 5,
   "metadata": {
    "collapsed": false,
    "jupyter": {
     "outputs_hidden": false
    },
    "pycharm": {
     "name": "#%%\n"
    }
   },
   "outputs": [
    {
     "name": "stderr",
     "output_type": "stream",
     "text": [
      "D:\\Anaconda3\\lib\\site-packages\\pandas\\core\\indexing.py:1637: SettingWithCopyWarning: \n",
      "A value is trying to be set on a copy of a slice from a DataFrame\n",
      "\n",
      "See the caveats in the documentation: https://pandas.pydata.org/pandas-docs/stable/user_guide/indexing.html#returning-a-view-versus-a-copy\n",
      "  self._setitem_single_block(indexer, value, name)\n"
     ]
    }
   ],
   "source": [
    "# Movie 相关数据处理\n",
    "# 电影名称索引化\n",
    "args.max_length = 16\n",
    "movie_title_word2id = {'pad': 0}\n",
    "for i in range(len(movie['movie_title'])):\n",
    "    words = movie['movie_title'][i].split(' ')\n",
    "    del words[-1]  # 去除年份\n",
    "    movie_title_id = []\n",
    "    for word in words:\n",
    "        if word not in movie_title_word2id:\n",
    "            movie_title_word2id[word] = len(movie_title_word2id)\n",
    "        movie_title_id.append(movie_title_word2id[word])\n",
    "    movie_title_id.extend([0] * (args.max_length - len(words)))  # 填充\n",
    "    movie['movie_title'].loc[i] = movie_title_id\n",
    "args.vocabulary_size = len(movie_title_word2id)\n",
    "# 电影类型索引化\n",
    "movie_types = ['Action', 'Adventure', 'Animation', \"Children's\", 'Comedy',\n",
    "               'Crime', 'Documentary', 'Drama', 'Fantasy', 'Film-Noir',\n",
    "               'Horror', 'Musical', 'Mystery', 'Romance', 'Sci-Fi',\n",
    "               'Thriller', 'War', 'Western']\n",
    "for i in range(len(movie['movie_type'])):\n",
    "    types = movie['movie_type'][i].split('|')\n",
    "    type_id = []\n",
    "    for j in range(len(movie_types)):\n",
    "        if movie_types[j] in types:\n",
    "            type_id.append(1)\n",
    "        else:\n",
    "            type_id.append(0)\n",
    "    movie['movie_type'].loc[i] = type_id"
   ]
  },
  {
   "cell_type": "code",
   "execution_count": 6,
   "metadata": {
    "collapsed": false,
    "jupyter": {
     "outputs_hidden": false
    },
    "pycharm": {
     "name": "#%%\n"
    }
   },
   "outputs": [],
   "source": [
    "# 融合三个表格\n",
    "tmp = pd.merge(rating, user)\n",
    "data = pd.merge(tmp, movie)"
   ]
  },
  {
   "cell_type": "code",
   "execution_count": 7,
   "metadata": {},
   "outputs": [],
   "source": [
    "from sklearn.model_selection import train_test_split\n",
    "\n",
    "train, test = train_test_split(data, random_state=2021, test_size=10000)"
   ]
  },
  {
   "cell_type": "code",
   "execution_count": 8,
   "outputs": [],
   "source": [
    "movies_train = {}\n",
    "users_train = {}\n",
    "for i in range(len(train)):\n",
    "    sample = train.iloc[i]\n",
    "    if sample['user_id'] not in users_train.keys():\n",
    "        users_train[sample['user_id']] = {'uid': sample['user_id'], 'gender': sample['user_gender'],\n",
    "                                    'age': sample['user_age'], 'job': sample['user_job']}\n",
    "    if sample['movie_id'] not in movies_train.keys():\n",
    "        movies_train[sample['movie_id']] = {'mid': sample['movie_id'], 'mtype': sample['movie_type'],\n",
    "                                      'mtext': sample['movie_title']}\n"
   ],
   "metadata": {
    "collapsed": false,
    "pycharm": {
     "name": "#%%\n"
    }
   }
  },
  {
   "cell_type": "code",
   "execution_count": 9,
   "metadata": {},
   "outputs": [],
   "source": [
    "users_train = dict(sorted(users_train.items(), key=lambda ele: ele[0], reverse=False))\n",
    "movies_train = dict(sorted(movies_train.items(), key=lambda ele: ele[0], reverse=False))\n",
    "user_index_to_uid = list(users_train.keys())\n",
    "movie_index_to_mid = list(movies_train.keys())\n",
    "\n",
    "pkl.dump(user_index_to_uid, open(args.path + 'user_index_to_uid.pkl', 'wb'))\n",
    "pkl.dump(movie_index_to_mid, open(args.path + 'movie_index_to_mid.pkl', 'wb'))\n",
    "pkl.dump(train, open(args.path + 'train.pkl', 'wb'))\n",
    "pkl.dump(test, open(args.path + 'test.pkl', 'wb'))"
   ]
  },
  {
   "cell_type": "code",
   "execution_count": 10,
   "outputs": [],
   "source": [
    "choice_matrix = pd.DataFrame(np.zeros([6040, 3706], dtype=float))\n",
    "rank_matrix_initial = pd.DataFrame(np.zeros([6040, 3706], dtype=float))\n",
    "\n",
    "for i in range(len(train)):\n",
    "    sample = train.iloc[i]\n",
    "    uid = sample['user_id']\n",
    "    mid = sample['movie_id']\n",
    "    rank = sample['rank']\n",
    "    user_index = user_index_to_uid.index(uid)\n",
    "    movie_index = movie_index_to_mid.index(mid)\n",
    "    choice_matrix[movie_index][user_index] = 1\n",
    "    rank_matrix_initial[movie_index][user_index] = rank\n",
    "\n",
    "pkl.dump(choice_matrix, open(args.path + 'choice_matrix.pkl', 'wb'))\n",
    "pkl.dump(rank_matrix_initial, open(args.path + 'rank_matrix_initial.pkl', 'wb'))"
   ],
   "metadata": {
    "collapsed": false,
    "pycharm": {
     "name": "#%%\n"
    }
   }
  },
  {
   "cell_type": "code",
   "execution_count": null,
   "outputs": [],
   "source": [],
   "metadata": {
    "collapsed": false,
    "pycharm": {
     "name": "#%%\n"
    }
   }
  }
 ],
 "metadata": {
  "kernelspec": {
   "display_name": "Python 3 (ipykernel)",
   "language": "python",
   "name": "python3"
  },
  "language_info": {
   "codemirror_mode": {
    "name": "ipython",
    "version": 3
   },
   "file_extension": ".py",
   "mimetype": "text/x-python",
   "name": "python",
   "nbconvert_exporter": "python",
   "pygments_lexer": "ipython3",
   "version": "3.8.10"
  }
 },
 "nbformat": 4,
 "nbformat_minor": 4
}