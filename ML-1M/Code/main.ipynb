{
 "cells": [
  {
   "cell_type": "code",
   "execution_count": null,
   "id": "4d692775-7a80-441d-8e95-53b53d8c9a40",
   "metadata": {},
   "outputs": [],
   "source": [
    "import time\n",
    "import torch\n",
    "import config\n",
    "import datetime\n",
    "from train import load_model, train, get_time_diff, set_seed\n",
    "from recommender import saveRankMatrix, evaluation_model\n",
    "\n",
    "args = config.args_initialization()\n",
    "args.device = torch.device(\"cuda:0\" if torch.cuda.is_available() and args.device == 'cuda' else \"cpu\")\n",
    "#args.device = 'cpu'"
   ]
  },
  {
   "cell_type": "code",
   "execution_count": null,
   "id": "f51527f9-fd34-4c67-a036-aaa0fd33dcc5",
   "metadata": {},
   "outputs": [],
   "source": [
    "#!pip install pandas\n",
    "#!pip install tensorboardX\n",
    "#!pip install tensorflow"
   ]
  },
  {
   "cell_type": "code",
   "execution_count": null,
   "id": "099fdef7-fe69-4903-9ce1-56dc1adac625",
   "metadata": {},
   "outputs": [],
   "source": [
    "start_time = time.perf_counter()\n",
    "set_seed(args)\n",
    "train_iter, test_iter, model = load_model(args)"
   ]
  },
  {
   "cell_type": "code",
   "execution_count": null,
   "id": "7c78f2b2-ce7c-4865-838f-89add7a5ae7d",
   "metadata": {
    "pycharm": {
     "name": "#%%\n"
    },
    "tags": []
   },
   "outputs": [],
   "source": [
    "train(args, model, train_iter)\n",
    "torch.save(model.state_dict(), 'Params/model_params.pkl')"
   ]
  },
  {
   "cell_type": "code",
   "execution_count": null,
   "id": "a344c575-f478-47e2-97d2-ad5945cc26bf",
   "metadata": {},
   "outputs": [],
   "source": [
    "#model.load_state_dict(torch.load('Params/model_params.pkl'))\n",
    "#rank_matrix = saveRankMatrix(args, model, train_iter)\n"
   ]
  },
  {
   "cell_type": "code",
   "execution_count": null,
   "id": "6627630e-8b3e-4c12-8366-d64620388fa5",
   "metadata": {},
   "outputs": [],
   "source": [
    "avg_loss = evaluation_model(args, model, test_iter)\n",
    "print(avg_loss)\n",
    "print(get_time_diff(start_time))"
   ]
  }
 ],
 "metadata": {
  "kernelspec": {
   "display_name": "Python 3 (ipykernel)",
   "language": "python",
   "name": "python3"
  },
  "language_info": {
   "codemirror_mode": {
    "name": "ipython",
    "version": 3
   },
   "file_extension": ".py",
   "mimetype": "text/x-python",
   "name": "python",
   "nbconvert_exporter": "python",
   "pygments_lexer": "ipython3",
   "version": "3.8.10"
  }
 },
 "nbformat": 4,
 "nbformat_minor": 5
}
