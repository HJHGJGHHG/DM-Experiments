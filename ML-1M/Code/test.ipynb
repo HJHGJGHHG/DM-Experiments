{
 "cells": [
  {
   "cell_type": "code",
   "execution_count": 1,
   "metadata": {
    "pycharm": {
     "name": "#%%\n"
    },
    "tags": []
   },
   "outputs": [],
   "source": [
    "import time\n",
    "import torch\n",
    "import config\n",
    "import datetime\n",
    "import pickle as pkl\n",
    "from train import load_model, train, get_time_diff, set_seed\n",
    "from recommender import saveRankMatrix, recommend_Users, recommend_Movies\n",
    "\n",
    "args = config.args_initialization()\n",
    "args.device = torch.device(\"cuda:0\" if torch.cuda.is_available() and args.device == 'cuda' else \"cpu\")"
   ]
  },
  {
   "cell_type": "code",
   "execution_count": 2,
   "outputs": [
    {
     "data": {
      "text/plain": "<All keys matched successfully>"
     },
     "execution_count": 2,
     "metadata": {},
     "output_type": "execute_result"
    }
   ],
   "source": [
    "start_time = time.perf_counter()\n",
    "set_seed(args)\n",
    "train_iter, test_iter, model = load_model(args)\n",
    "model.load_state_dict(torch.load('Params/model_params.pkl'))"
   ],
   "metadata": {
    "collapsed": false,
    "pycharm": {
     "name": "#%%\n"
    }
   }
  },
  {
   "cell_type": "code",
   "execution_count": 3,
   "outputs": [],
   "source": [
    "#rank_matrix = saveRankMatrix(args, model, train_iter)\n",
    "rank_matrix = pkl.load(open('Params/rank_matrix.pkl', 'rb'))"
   ],
   "metadata": {
    "collapsed": false,
    "pycharm": {
     "name": "#%%\n"
    }
   }
  },
  {
   "cell_type": "code",
   "execution_count": 4,
   "outputs": [
    {
     "name": "stdout",
     "output_type": "stream",
     "text": [
      "该用户信息：UserID: 2021    Gender:Male    Age:25-34    Occupation:other or not specified\n",
      "为该用户推荐的相似用户：\n",
      "1: UserID: 318    Gender:Female    Age:56+    Occupation:retired\n",
      "2: UserID: 318    Gender:Female    Age:56+    Occupation:retired\n",
      "3: UserID: 318    Gender:Female    Age:56+    Occupation:retired\n",
      "4: UserID: 318    Gender:Female    Age:56+    Occupation:retired\n",
      "5: UserID: 318    Gender:Female    Age:56+    Occupation:retired\n"
     ]
    }
   ],
   "source": [
    "recommend_Movies(args, uid=2021, rank_matrix=rank_matrix)"
   ],
   "metadata": {
    "collapsed": false,
    "pycharm": {
     "name": "#%%\n"
    }
   }
  },
  {
   "cell_type": "code",
   "execution_count": 5,
   "outputs": [
    {
     "name": "stdout",
     "output_type": "stream",
     "text": [
      "该电影信息：MovieID: 2021    Movie Title: Dune (1984)    Movie Type: Fantasy|Sci-Fi\n",
      "他们也在看：\n",
      "1: MovieID: 318    Movie Title: Shawshank Redemption, The (1994)    Movie Type: Drama\n",
      "2: MovieID: 1212    Movie Title: Third Man, The (1949)    Movie Type: Mystery|Thriller\n",
      "3: MovieID: 912    Movie Title: Casablanca (1942)    Movie Type: Drama|Romance|War\n",
      "4: MovieID: 904    Movie Title: Rear Window (1954)    Movie Type: Mystery|Thriller\n",
      "5: MovieID: 750    Movie Title: Dr. Strangelove or: How I Learned to Stop Worrying and Love the Bomb (1963)    Movie Type: Sci-Fi|War\n"
     ]
    }
   ],
   "source": [
    "recommend_Users(args, mid=2021, rank_matrix=rank_matrix)"
   ],
   "metadata": {
    "collapsed": false,
    "pycharm": {
     "name": "#%%\n"
    }
   }
  }
 ],
 "metadata": {
  "kernelspec": {
   "display_name": "Python 3 (ipykernel)",
   "language": "python",
   "name": "python3"
  },
  "language_info": {
   "codemirror_mode": {
    "name": "ipython",
    "version": 3
   },
   "file_extension": ".py",
   "mimetype": "text/x-python",
   "name": "python",
   "nbconvert_exporter": "python",
   "pygments_lexer": "ipython3",
   "version": "3.8.10"
  }
 },
 "nbformat": 4,
 "nbformat_minor": 4
}