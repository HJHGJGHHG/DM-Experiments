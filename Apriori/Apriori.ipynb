{
 "cells": [
  {
   "cell_type": "code",
   "execution_count": 1,
   "metadata": {
    "collapsed": true
   },
   "outputs": [],
   "source": [
    "Itemset = {\n",
    "    1: 'Republican', 2: 'Democrat',\n",
    "    3: 'handicapped-infants=Y', 4: 'handicapped-infants=N',\n",
    "    5: 'water-project-cost-sharing=Y', 6: 'water-project-cost-sharing=N',\n",
    "    7: 'adoption-of-the-budget-resolution=Y', 8: 'adoption-of-the-budget-resolution=N',\n",
    "    9: 'physician-fee-freeze=Y', 10: 'physician-fee-freeze=N',\n",
    "    11: 'el-salvador-aid=Y', 12: 'el-salvador-aid=N',\n",
    "    13: 'religious-groups-in-schools=Y', 14: 'religious-groups-in-schools=N',\n",
    "    15: 'anti-satellite-test-ban=Y', 16: 'anti-satellite-test-ban=N',\n",
    "    17: 'aid-to-nicaraguan-contras=Y', 18: 'aid-to-nicaraguan-contras=N',\n",
    "    19: 'mx-missile=Y', 20: 'mx-missile=N',\n",
    "    21: 'immigration=Y', 22: 'immigration=N',\n",
    "    23: 'synfuels-corporation-cutback=Y', 24: 'synfuels-corporation-cutback=N',\n",
    "    25: 'education-spending=Y', 26: 'education-spending=N',\n",
    "    27: 'superfund-right-to-sue=Y', 28: 'superfund-right-to-sue=N',\n",
    "    29: 'crime=Y', 30: 'crime=N', 31: 'duty-free-exports=Y', 32: 'duty-free-exports=N',\n",
    "    33: 'export-administration-act-south-africa=Y', 34: 'export-administration-act-south-africa=N'\n",
    "}\n",
    "SUP_min = 0.3\n",
    "CONF_min = 0.9\n",
    "#party = ''\n",
    "#party = 'republic'\n",
    "party = 'democrat'\n",
    "\n",
    "# 加载数据，构建事务集\n",
    "def loadData():\n",
    "    f = open('data/house-votes-84.data')\n",
    "    data = []\n",
    "    for txt_line in f.read().split('\\n'):\n",
    "        data_processed = []\n",
    "        if txt_line == '':\n",
    "            pass\n",
    "        else:\n",
    "            tmp = txt_line.split(',')\n",
    "            data_processed.append(1) if tmp[0] == 'republican' else data_processed.append(2)\n",
    "            for i in range(len(tmp)):\n",
    "                if tmp[i] == 'y':\n",
    "                    data_processed.append(2 * i + 1)\n",
    "                elif tmp[i] == 'n':\n",
    "                    data_processed.append(2 * i + 2)\n",
    "                else:\n",
    "                    pass\n",
    "            data.append(data_processed)\n",
    "    f.close()\n",
    "    return data\n",
    "\n",
    "\n",
    "raw_data = loadData()"
   ]
  },
  {
   "cell_type": "code",
   "execution_count": 2,
   "outputs": [],
   "source": [
    "def split_data(raw_data, party):\n",
    "    if party == '':\n",
    "        return raw_data\n",
    "    elif party == 'republic':\n",
    "        data_republic = []\n",
    "        for data in raw_data:\n",
    "            if len(data) == 1:\n",
    "                continue\n",
    "            if data[0] == 1:\n",
    "                data_republic.append(data[1:])\n",
    "        return data_republic\n",
    "    elif party == 'democrat':\n",
    "        data_democrat = []\n",
    "        for data in raw_data:\n",
    "            if len(data) == 1:\n",
    "                continue\n",
    "            if data[0] == 2:\n",
    "                data_democrat.append(data[1:])\n",
    "        return data_democrat\n",
    "\n",
    "\n",
    "data = split_data(raw_data, party=party)"
   ],
   "metadata": {
    "collapsed": false,
    "pycharm": {
     "name": "#%%"
    }
   }
  },
  {
   "cell_type": "code",
   "execution_count": 3,
   "outputs": [],
   "source": [
    "# 挖掘 1-频繁集\n",
    "def compare(item1, item2):\n",
    "    tmp = []\n",
    "    equal = True\n",
    "    if len(item1) == 1:\n",
    "        return equal, (item1 + item2)\n",
    "    for i in range(len(item1) - 1):\n",
    "        tmp.append(item1[i])\n",
    "        if item1[i] != item2[i]:\n",
    "            equal = False\n",
    "            break\n",
    "    if equal:\n",
    "        minitem = min(item1[-1], item1[-1])\n",
    "        maxitem = max(item2[-1], item1[-1])\n",
    "        tmp.append(minitem)\n",
    "        tmp.append(maxitem)\n",
    "    return equal, tuple(tmp)\n",
    "\n",
    "\n",
    "def issubset(item1, item2):\n",
    "    # 判断 item1 是否为 item2 的子集\n",
    "    return set(item1).issubset(set(item2))\n",
    "\n",
    "\n",
    "def F1_Mining(data):\n",
    "    C1, F1 = {}, {}\n",
    "    count = len(data)\n",
    "    for data_line in data:\n",
    "        # 对于数据集中的每一行投票数据\n",
    "        for i in range(len(data_line)):\n",
    "            # 对于每一行数据中的下标（对应某个议题）\n",
    "            key = tuple([data_line[i]])\n",
    "            if key in C1.keys():\n",
    "                # 以键值对的形式进行存储和计数\n",
    "                C1[key] += 1\n",
    "            else:\n",
    "                C1[key] = 1\n",
    "    for item in C1:\n",
    "        if C1[item] / count >= SUP_min:\n",
    "            F1[item] = C1[item]\n",
    "\n",
    "    return F1\n",
    "\n",
    "\n",
    "F1 = F1_Mining(data)"
   ],
   "metadata": {
    "collapsed": false,
    "pycharm": {
     "name": "#%%\n"
    }
   }
  },
  {
   "cell_type": "code",
   "execution_count": 4,
   "outputs": [],
   "source": [
    "# 挖掘 2-频繁集\n",
    "def F2_Mining(data, F1):\n",
    "    C2, F2 = {}, {}\n",
    "    F1_keys = sorted(list(F1.keys()))\n",
    "    for i in range(len(F1_keys)):\n",
    "        for j in range(i + 1, len(F1_keys)):\n",
    "            equal, tmp = compare(F1_keys[i], F1_keys[j])\n",
    "            if equal:\n",
    "                C2[tmp] = 0\n",
    "            else:\n",
    "                continue\n",
    "    for data_line in data:\n",
    "        for item in C2:\n",
    "            if issubset(item, data_line):\n",
    "                C2[item] += 1\n",
    "    for item in C2:\n",
    "        if C2[item] / len(data) >= SUP_min:\n",
    "            F2[item] = C2[item]\n",
    "    return F2\n",
    "\n",
    "\n",
    "F2 = F2_Mining(data, F1)"
   ],
   "metadata": {
    "collapsed": false,
    "pycharm": {
     "name": "#%%\n"
    }
   }
  },
  {
   "cell_type": "code",
   "execution_count": 5,
   "outputs": [],
   "source": [
    "# 挖掘3-频繁项集乃至n-频繁项集，并合并所有频繁项集\n",
    "def F_Mining(data, F1, F2):\n",
    "    Fk_1 = F2\n",
    "    F = [F1]  # 存储的是所有频繁项集\n",
    "    while Fk_1 != {}:\n",
    "        F.append(Fk_1)\n",
    "        Ck, Fk = {}, {}\n",
    "        Fk_1_keys = sorted(list(Fk_1.keys()))\n",
    "        for i in range(len(Fk_1_keys)):\n",
    "            for j in range(i + 1, len(Fk_1_keys)):\n",
    "                equal, tmp = compare(Fk_1_keys[i], Fk_1_keys[j])\n",
    "                if equal:\n",
    "                    Ck[tmp] = 0\n",
    "                else:\n",
    "                    continue\n",
    "        for data_line in data:\n",
    "            for item in Ck:\n",
    "                if issubset(item, data_line):\n",
    "                    Ck[item] += 1\n",
    "        for item in Ck:\n",
    "            if Ck[item] / len(data) >= SUP_min:\n",
    "                Fk[item] = Ck[item]\n",
    "        Fk_1 = Fk\n",
    "    return F\n",
    "\n",
    "\n",
    "F = F_Mining(data, F1, F2)"
   ],
   "metadata": {
    "collapsed": false,
    "pycharm": {
     "name": "#%%\n"
    }
   }
  },
  {
   "cell_type": "code",
   "execution_count": 6,
   "outputs": [],
   "source": [
    "def generate_1_rules(F):\n",
    "    # 生成第一类关联规则\n",
    "    rules = {}\n",
    "    for i in range(2, len(F)):\n",
    "        for item in F[i]:\n",
    "            if 1 in item:\n",
    "                antecedent = tuple(sorted(set(item) - {1}))  # 关联规则前件\n",
    "                confidence = F[i][item] / F[i - 1][antecedent]\n",
    "                if 1 > confidence >= CONF_min:\n",
    "                    rules[(antecedent, 1)] = confidence\n",
    "            elif 2 in item:\n",
    "                antecedent = tuple(sorted(set(item) - {2}))  # 关联规则前件\n",
    "                confidence = F[i][item] / F[i - 1][antecedent]\n",
    "                if 1 > confidence >= CONF_min:\n",
    "                    rules[(antecedent, 2)] = confidence\n",
    "            else:\n",
    "                continue\n",
    "    return rules\n",
    "\n",
    "\n",
    "rules = sorted(generate_1_rules(F).items(), key=lambda x: x[1], reverse=True)"
   ],
   "metadata": {
    "collapsed": false,
    "pycharm": {
     "name": "#%%\n"
    }
   }
  },
  {
   "cell_type": "code",
   "execution_count": 7,
   "outputs": [],
   "source": [
    "def get_subset(freq):\n",
    "    if len(freq) == 0:\n",
    "        return [[]]\n",
    "    all_subsets = get_subset(freq[1:]) + [[freq[0]] + r for r in get_subset(freq[1:])]\n",
    "    all_subsets = sorted(all_subsets, key=lambda x: (len(x), x))\n",
    "    return all_subsets\n",
    "\n",
    "\n",
    "def subset_tuple(all_subsets, freq):\n",
    "    # 整理子集\n",
    "    all_subsets_tuple = []\n",
    "    for subset in all_subsets:\n",
    "        if len(subset) == 0 or len(subset) == len(freq):\n",
    "            continue\n",
    "        else:\n",
    "            subset = set(subset)\n",
    "            complement = set(list(freq)) - subset\n",
    "            subset = tuple(sorted(subset, key=lambda x: x))\n",
    "            complement = tuple(sorted(complement, key=lambda x: x))\n",
    "            all_subsets_tuple.append(tuple([subset, complement]))\n",
    "    return all_subsets_tuple\n",
    "\n",
    "\n",
    "def generate_2_rules(F, party=party):\n",
    "    # 生成第二类关联规则\n",
    "    rules = {}\n",
    "    for i in range(1, len(F)):\n",
    "        for item in F[i]:\n",
    "            for subset in subset_tuple(get_subset(item), item):\n",
    "                rule_confidence = F[len(item) - 1][item] / F[len(subset[0]) - 1][subset[0]]\n",
    "                if rule_confidence >= CONF_min:\n",
    "                    rules[subset] = rule_confidence\n",
    "    return rules\n",
    "\n",
    "\n",
    "rules = sorted(generate_2_rules(F).items(), key=lambda x: x[1], reverse=True)"
   ],
   "metadata": {
    "collapsed": false,
    "pycharm": {
     "name": "#%%\n"
    }
   }
  },
  {
   "cell_type": "code",
   "execution_count": 8,
   "outputs": [
    {
     "name": "stdout",
     "output_type": "stream",
     "text": [
      "关联规则:handicapped-infants=Y, synfuels-corporation-cutback=N,  -> physician-fee-freeze=N，置信度:1.00000\n",
      "关联规则:water-project-cost-sharing=N, el-salvador-aid=N,  -> physician-fee-freeze=N，置信度:1.00000\n",
      "关联规则:water-project-cost-sharing=N, anti-satellite-test-ban=Y,  -> physician-fee-freeze=N，置信度:1.00000\n",
      "关联规则:water-project-cost-sharing=N, aid-to-nicaraguan-contras=Y,  -> physician-fee-freeze=N，置信度:1.00000\n",
      "关联规则:water-project-cost-sharing=N, superfund-right-to-sue=N,  -> physician-fee-freeze=N，置信度:1.00000\n",
      "关联规则:water-project-cost-sharing=N, export-administration-act-south-africa=Y,  -> physician-fee-freeze=N，置信度:1.00000\n",
      "关联规则:el-salvador-aid=N, synfuels-corporation-cutback=N,  -> physician-fee-freeze=N，置信度:1.00000\n",
      "关联规则:religious-groups-in-schools=N, synfuels-corporation-cutback=N,  -> physician-fee-freeze=N，置信度:1.00000\n",
      "关联规则:anti-satellite-test-ban=Y, synfuels-corporation-cutback=N,  -> physician-fee-freeze=N，置信度:1.00000\n",
      "关联规则:aid-to-nicaraguan-contras=Y, synfuels-corporation-cutback=N,  -> physician-fee-freeze=N，置信度:1.00000\n"
     ]
    }
   ],
   "source": [
    "for rule in rules[:10]:\n",
    "    antecedent = rule[0][0]\n",
    "    consequent = rule[0][1]\n",
    "    confidence = rule[1]\n",
    "    antecedent_str = ''\n",
    "    for item in antecedent:\n",
    "        antecedent_str = antecedent_str + Itemset[item] + ', '\n",
    "    print('关联规则:{:s} -> {:s}，置信度:{:.5f}'.format(antecedent_str, Itemset[consequent[0]], confidence))"
   ],
   "metadata": {
    "collapsed": false,
    "pycharm": {
     "name": "#%%\n"
    }
   }
  }
 ],
 "metadata": {
  "kernelspec": {
   "display_name": "Python 3",
   "language": "python",
   "name": "python3"
  },
  "language_info": {
   "codemirror_mode": {
    "name": "ipython",
    "version": 2
   },
   "file_extension": ".py",
   "mimetype": "text/x-python",
   "name": "python",
   "nbconvert_exporter": "python",
   "pygments_lexer": "ipython2",
   "version": "2.7.6"
  }
 },
 "nbformat": 4,
 "nbformat_minor": 0
}